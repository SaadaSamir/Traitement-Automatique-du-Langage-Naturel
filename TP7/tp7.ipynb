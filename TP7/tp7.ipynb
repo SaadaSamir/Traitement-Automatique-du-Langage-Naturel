{
 "cells": [
  {
   "cell_type": "code",
   "execution_count": 1,
   "metadata": {},
   "outputs": [],
   "source": [
    "documents = [\n",
    "    \"Climate change is an urgent global challenge that affects ecosystems worldwide, disrupting weather patterns, melting polar ice caps, and threatening the survival of countless species. Immediate action to mitigate climate change and reduce greenhouse gas emissions is essential to preserve biodiversity and protect the planet.\",\n",
    "    \"Renewable energy and sustainability are key to addressing the growing environmental concerns that we face today, offering viable alternatives to fossil fuels. The transition to renewable energy sources like solar, wind, and hydropower is essential in reducing the environmental impact and mitigating climate change.\",\n",
    "    \"Green technologies, such as solar power, wind energy, and electric vehicles, have become essential in reducing carbon footprints, curbing greenhouse gas emissions, and paving the way for a sustainable and environmentally friendly future. The development of these technologies plays a crucial role in combating climate change.\",\n",
    "    \"Climate change mitigation includes a wide range of strategies, such as reforestation, carbon capture and storage, and the promotion of renewable energy. These efforts are crucial to reduce carbon emissions and limit global warming, which is a growing threat to biodiversity and ecosystems worldwide.\",\n",
    "    \"Environmental protection is closely linked to sustainable practices in agriculture, industry, and urban development. By embracing sustainable agricultural methods and green technologies, we can preserve natural resources, reduce pollution, and mitigate the effects of climate change on ecosystems and biodiversity.\",\n",
    "    \"The rise in global temperatures is having a significant impact on biodiversity and ecosystems. Rising temperatures disrupt habitats, contribute to the extinction of vulnerable species, and degrade essential ecological services such as pollination and water purification. Immediate climate action is needed to reverse these impacts and safeguard our future.\"\n",
    "]\n",
    "\n",
    "\n",
    "\n"
   ]
  },
  {
   "cell_type": "markdown",
   "metadata": {},
   "source": [
    "# Prétraitement des documents"
   ]
  },
  {
   "cell_type": "code",
   "execution_count": 2,
   "metadata": {},
   "outputs": [
    {
     "name": "stderr",
     "output_type": "stream",
     "text": [
      "[nltk_data] Downloading package stopwords to\n",
      "[nltk_data]     C:\\Users\\PC\\AppData\\Roaming\\nltk_data...\n",
      "[nltk_data]   Package stopwords is already up-to-date!\n",
      "[nltk_data] Downloading package punkt to\n",
      "[nltk_data]     C:\\Users\\PC\\AppData\\Roaming\\nltk_data...\n",
      "[nltk_data]   Package punkt is already up-to-date!\n"
     ]
    },
    {
     "name": "stdout",
     "output_type": "stream",
     "text": [
      "Cleaned documents:\n",
      "\n",
      "Document 1:\n",
      "['climate', 'change', 'urgent', 'global', 'challenge', 'affects', 'ecosystems', 'worldwide', 'disrupting', 'weather', 'patterns', 'melting', 'polar', 'ice', 'caps', 'threatening', 'survival', 'countless', 'species', 'immediate', 'action', 'mitigate', 'reduce', 'greenhouse', 'gas', 'emissions', 'essential', 'preserve', 'biodiversity', 'protect', 'planet']\n",
      "\n",
      "Document 2:\n",
      "['renewable', 'energy', 'sustainability', 'key', 'addressing', 'growing', 'environmental', 'concerns', 'face', 'today', 'offering', 'viable', 'alternatives', 'fossil', 'fuels', 'transition', 'sources', 'like', 'solar', 'wind', 'hydropower', 'essential', 'reducing', 'impact', 'mitigating', 'climate', 'change']\n",
      "\n",
      "Document 3:\n",
      "['green', 'technologies', 'solar', 'power', 'wind', 'energy', 'electric', 'vehicles', 'become', 'essential', 'reducing', 'carbon', 'footprints', 'curbing', 'greenhouse', 'gas', 'emissions', 'paving', 'way', 'sustainable', 'environmentally', 'friendly', 'future', 'development', 'plays', 'crucial', 'role', 'combating', 'climate', 'change']\n",
      "\n",
      "Document 4:\n",
      "['climate', 'change', 'mitigation', 'includes', 'wide', 'range', 'strategies', 'reforestation', 'carbon', 'capture', 'storage', 'promotion', 'renewable', 'energy', 'efforts', 'crucial', 'reduce', 'emissions', 'limit', 'global', 'warming', 'growing', 'threat', 'biodiversity', 'ecosystems', 'worldwide']\n",
      "\n",
      "Document 5:\n",
      "['environmental', 'protection', 'closely', 'linked', 'sustainable', 'practices', 'agriculture', 'industry', 'urban', 'development', 'embracing', 'agricultural', 'methods', 'green', 'technologies', 'preserve', 'natural', 'resources', 'reduce', 'pollution', 'mitigate', 'effects', 'climate', 'change', 'ecosystems', 'biodiversity']\n",
      "\n",
      "Document 6:\n",
      "['rise', 'global', 'temperatures', 'significant', 'impact', 'biodiversity', 'ecosystems', 'rising', 'disrupt', 'habitats', 'contribute', 'extinction', 'vulnerable', 'species', 'degrade', 'essential', 'ecological', 'services', 'pollination', 'water', 'purification', 'immediate', 'climate', 'action', 'needed', 'reverse', 'impacts', 'safeguard', 'future', 'having']\n"
     ]
    }
   ],
   "source": [
    "import nltk\n",
    "import spacy\n",
    "from nltk.corpus import stopwords\n",
    "from nltk.tokenize import word_tokenize\n",
    "\n",
    "# Download required NLTK data\n",
    "nltk.download('stopwords')\n",
    "nltk.download('punkt')\n",
    "\n",
    "# Load spaCy model\n",
    "nlp = spacy.load(\"en_core_web_sm\")\n",
    "\n",
    "# Get NLTK stopwords\n",
    "nltk_stop_words = set(stopwords.words('english'))\n",
    "\n",
    "def clean_text_combined(text):\n",
    "    \"\"\"\n",
    "    Combined approach using both NLTK and spaCy for text cleaning\n",
    "    \"\"\"\n",
    "    # NLTK processing\n",
    "    tokens = word_tokenize(text.lower())\n",
    "    nltk_cleaned = [word for word in tokens if word.isalnum() and word not in nltk_stop_words]\n",
    "    \n",
    "    # spaCy processing\n",
    "    doc = nlp(text.lower())\n",
    "    spacy_cleaned = [token.text for token in doc if token.is_alpha and not token.is_stop]\n",
    "    \n",
    "    # Combine both results and remove duplicates while maintaining order\n",
    "    combined_tokens = list(dict.fromkeys(nltk_cleaned + spacy_cleaned))\n",
    "    \n",
    "    return combined_tokens\n",
    "\n",
    "# Clean the documents using the combined approach\n",
    "cleaned_documents = [clean_text_combined(doc) for doc in documents]\n",
    "print(\"Cleaned documents:\")\n",
    "for i, doc in enumerate(cleaned_documents):\n",
    "    print(f\"\\nDocument {i+1}:\")\n",
    "    print(doc)"
   ]
  },
  {
   "cell_type": "markdown",
   "metadata": {},
   "source": [
    "# Representation BOW"
   ]
  },
  {
   "cell_type": "code",
   "execution_count": 88,
   "metadata": {},
   "outputs": [
    {
     "name": "stdout",
     "output_type": "stream",
     "text": [
      "[[(0, 1), (1, 1), (2, 1), (3, 1), (4, 1), (5, 2), (6, 2), (7, 1), (8, 1), (9, 1), (10, 1), (11, 1), (12, 1), (13, 1), (14, 1), (15, 1), (16, 1), (17, 1), (18, 1), (19, 1), (20, 1), (21, 1), (22, 1), (23, 1), (24, 1), (25, 1), (26, 1), (27, 1), (28, 1), (29, 1), (30, 1)], [(5, 1), (6, 1), (11, 1), (31, 1), (32, 1), (33, 1), (34, 2), (35, 2), (36, 1), (37, 1), (38, 1), (39, 1), (40, 1), (41, 1), (42, 1), (43, 1), (44, 1), (45, 1), (46, 1), (47, 2), (48, 1), (49, 1), (50, 1), (51, 1), (52, 1), (53, 1), (54, 1)], [(5, 1), (6, 1), (10, 1), (11, 1), (12, 1), (14, 1), (34, 1), (46, 1), (48, 1), (54, 1), (55, 1), (56, 1), (57, 1), (58, 1), (59, 1), (60, 1), (61, 1), (62, 1), (63, 1), (64, 1), (65, 1), (66, 1), (67, 1), (68, 1), (69, 1), (70, 1), (71, 2), (72, 1), (73, 1)], [(2, 1), (5, 1), (6, 1), (9, 1), (10, 1), (13, 1), (24, 1), (30, 1), (34, 1), (39, 1), (47, 1), (55, 2), (57, 1), (74, 1), (75, 1), (76, 1), (77, 1), (78, 1), (79, 1), (80, 1), (81, 1), (82, 1), (83, 1), (84, 1), (85, 1), (86, 1)], [(2, 1), (5, 1), (6, 1), (9, 1), (18, 1), (22, 1), (24, 1), (35, 1), (59, 1), (65, 1), (70, 2), (71, 1), (87, 1), (88, 1), (89, 1), (90, 1), (91, 1), (92, 1), (93, 1), (94, 1), (95, 1), (96, 1), (97, 1), (98, 1), (99, 1), (100, 1)], [(0, 1), (2, 1), (6, 1), (9, 1), (11, 1), (13, 1), (16, 1), (25, 1), (41, 1), (64, 1), (101, 1), (102, 1), (103, 1), (104, 1), (105, 1), (106, 1), (107, 1), (108, 1), (109, 1), (110, 1), (111, 1), (112, 1), (113, 1), (114, 1), (115, 1), (116, 1), (117, 1), (118, 2), (119, 1), (120, 1)]]\n"
     ]
    }
   ],
   "source": [
    "from gensim.corpora import Dictionary\n",
    "\n",
    "# Créer le dictionnaire\n",
    "dictionary = Dictionary(cleaned_documents)\n",
    "\n",
    "# Convertir les documents en Bag-of-Words\n",
    "corpus_bow = [dictionary.doc2bow(doc) for doc in cleaned_documents]\n",
    "print(corpus_bow)"
   ]
  },
  {
   "cell_type": "markdown",
   "metadata": {},
   "source": [
    "# Rpresentation TF-IDF"
   ]
  },
  {
   "cell_type": "code",
   "execution_count": 89,
   "metadata": {},
   "outputs": [
    {
     "name": "stdout",
     "output_type": "stream",
     "text": [
      "TfidfModel<num_docs=6, num_nnz=169>\n"
     ]
    }
   ],
   "source": [
    "from gensim.models import TfidfModel\n",
    "\n",
    "# Appliquer le modèle TF-IDF\n",
    "tfidf_model = TfidfModel(corpus_bow)\n",
    "corpus_tfidf = tfidf_model[corpus_bow]\n",
    "print(tfidf_model)\n",
    "#print(corpus_tfidf)"
   ]
  },
  {
   "cell_type": "markdown",
   "metadata": {},
   "source": [
    "# Rpresentation \"LDA\""
   ]
  },
  {
   "cell_type": "code",
   "execution_count": 90,
   "metadata": {},
   "outputs": [
    {
     "data": {
      "text/plain": [
       "[(0,\n",
       "  '0.026*\"climate\" + 0.019*\"change\" + 0.018*\"energy\" + 0.017*\"ecosystems\" + 0.017*\"essential\" + 0.016*\"environmental\" + 0.016*\"renewable\" + 0.015*\"biodiversity\" + 0.015*\"global\" + 0.014*\"impact\"'),\n",
       " (1,\n",
       "  '0.028*\"climate\" + 0.027*\"change\" + 0.019*\"sustainable\" + 0.018*\"technologies\" + 0.018*\"biodiversity\" + 0.017*\"essential\" + 0.016*\"ecosystems\" + 0.016*\"energy\" + 0.015*\"emissions\" + 0.014*\"development\"')]"
      ]
     },
     "execution_count": 90,
     "metadata": {},
     "output_type": "execute_result"
    }
   ],
   "source": [
    "from gensim.models import ldamodel\n",
    "\n",
    "# Appliquer LDA\n",
    "model = ldamodel.LdaModel(corpus_bow, id2word=dictionary, num_topics=2)\n",
    "\n",
    "model.show_topics()"
   ]
  },
  {
   "cell_type": "markdown",
   "metadata": {},
   "source": [
    "# Similarité entre documents"
   ]
  },
  {
   "cell_type": "code",
   "execution_count": 91,
   "metadata": {},
   "outputs": [
    {
     "name": "stdout",
     "output_type": "stream",
     "text": [
      "[[1.         0.04878316 0.12747697 0.16211673 0.14662359 0.14978167]\n",
      " [0.04878316 1.         0.14794541 0.14149145 0.07279338 0.04396705]\n",
      " [0.12747697 0.14794541 1.         0.15183021 0.19455087 0.04717971]\n",
      " [0.16211673 0.14149145 0.15183021 1.         0.07498059 0.05621281]\n",
      " [0.14662359 0.07279338 0.19455087 0.07498059 1.         0.03594118]\n",
      " [0.14978167 0.04396705 0.04717971 0.05621281 0.03594118 1.        ]]\n"
     ]
    }
   ],
   "source": [
    "from sklearn.feature_extraction.text import TfidfVectorizer\n",
    "from sklearn.metrics.pairwise import cosine_similarity\n",
    "\n",
    "# First, we need to join the cleaned tokens into full text strings\n",
    "cleaned_documents_text = [\" \".join(doc) for doc in cleaned_documents]\n",
    "\n",
    "# Initialize TfidfVectorizer and compute TF-IDF matrix\n",
    "vectorizer = TfidfVectorizer()\n",
    "tfidf_matrix = vectorizer.fit_transform(cleaned_documents_text)\n",
    "\n",
    "# Compute cosine similarity between all pairs of documents\n",
    "cosine_sim = cosine_similarity(tfidf_matrix)\n",
    "\n",
    "# Display the similarity matrix\n",
    "print(cosine_sim)"
   ]
  },
  {
   "cell_type": "markdown",
   "metadata": {},
   "source": [
    "# Calcule des similarités"
   ]
  },
  {
   "cell_type": "code",
   "execution_count": 92,
   "metadata": {},
   "outputs": [],
   "source": [
    "# Document de requête\n",
    "query_doc = \"renewable energy technologies play a crucial role in reducing carbon emissions and mitigating climate change\".lower().split()\n",
    "\n",
    "\n",
    "query_bow = dictionary.doc2bow(query_doc)\n"
   ]
  },
  {
   "cell_type": "code",
   "execution_count": 93,
   "metadata": {},
   "outputs": [
    {
     "name": "stdout",
     "output_type": "stream",
     "text": [
      "Similarités BoW (pair à pair) :\n",
      "['green', 'technologies', 'solar', 'power', 'wind', 'energy', 'electric', 'vehicles', 'essential', 'reducing', 'carbon', 'footprints', 'curbing', 'greenhouse', 'gas', 'emissions', 'paving', 'way', 'sustainable', 'environmentally', 'friendly', 'future', 'development', 'technologies', 'plays', 'crucial', 'role', 'combating', 'climate', 'change'] 0.5330018\n",
      "['climate', 'change', 'mitigation', 'includes', 'wide', 'range', 'strategies', 'reforestation', 'carbon', 'capture', 'storage', 'promotion', 'renewable', 'energy', 'efforts', 'crucial', 'reduce', 'carbon', 'emissions', 'limit', 'global', 'warming', 'growing', 'threat', 'biodiversity', 'ecosystems', 'worldwide'] 0.447914\n",
      "['renewable', 'energy', 'sustainability', 'key', 'addressing', 'growing', 'environmental', 'concerns', 'face', 'today', 'offering', 'viable', 'alternatives', 'fossil', 'fuels', 'transition', 'renewable', 'energy', 'sources', 'like', 'solar', 'wind', 'hydropower', 'essential', 'reducing', 'environmental', 'impact', 'mitigating', 'climate', 'change'] 0.40201515\n",
      "['climate', 'change', 'urgent', 'global', 'challenge', 'affects', 'ecosystems', 'worldwide', 'disrupting', 'weather', 'patterns', 'melting', 'polar', 'ice', 'caps', 'threatening', 'survival', 'countless', 'species', 'immediate', 'action', 'mitigate', 'climate', 'change', 'reduce', 'greenhouse', 'gas', 'emissions', 'essential', 'preserve', 'biodiversity', 'protect', 'planet'] 0.24784079\n",
      "['environmental', 'protection', 'closely', 'linked', 'sustainable', 'practices', 'agriculture', 'industry', 'urban', 'development', 'embracing', 'sustainable', 'agricultural', 'methods', 'green', 'technologies', 'preserve', 'natural', 'resources', 'reduce', 'pollution', 'mitigate', 'effects', 'climate', 'change', 'ecosystems', 'biodiversity'] 0.16796775\n",
      "['rise', 'global', 'temperatures', 'having', 'significant', 'impact', 'biodiversity', 'ecosystems', 'rising', 'temperatures', 'disrupt', 'habitats', 'contribute', 'extinction', 'vulnerable', 'species', 'degrade', 'essential', 'ecological', 'services', 'pollination', 'water', 'purification', 'immediate', 'climate', 'action', 'needed', 'reverse', 'impacts', 'safeguard', 'future'] 0.05248639\n"
     ]
    }
   ],
   "source": [
    "from gensim.similarities import MatrixSimilarity\n",
    "# Calcul de la similarité avec BoW\n",
    "index_bow = MatrixSimilarity(corpus_bow)  # Crée un index pour le corpus BoW\n",
    "sims_bow = index_bow[query_bow]\n",
    "\n",
    "print(\"Similarités BoW (pair à pair) :\")\n",
    "sims_bow = sorted(enumerate(sims_bow), key = lambda item:-item[1])\n",
    "\n",
    "for doc_id, similarity in sims_bow :\n",
    "    print(cleaned_documents[doc_id], similarity)"
   ]
  },
  {
   "cell_type": "code",
   "execution_count": 94,
   "metadata": {},
   "outputs": [
    {
     "name": "stdout",
     "output_type": "stream",
     "text": [
      "Similarités tfidf (pair à pair) :\n",
      "['green', 'technologies', 'solar', 'power', 'wind', 'energy', 'electric', 'vehicles', 'essential', 'reducing', 'carbon', 'footprints', 'curbing', 'greenhouse', 'gas', 'emissions', 'paving', 'way', 'sustainable', 'environmentally', 'friendly', 'future', 'development', 'technologies', 'plays', 'crucial', 'role', 'combating', 'climate', 'change'] 0.3672793\n",
      "['renewable', 'energy', 'sustainability', 'key', 'addressing', 'growing', 'environmental', 'concerns', 'face', 'today', 'offering', 'viable', 'alternatives', 'fossil', 'fuels', 'transition', 'renewable', 'energy', 'sources', 'like', 'solar', 'wind', 'hydropower', 'essential', 'reducing', 'environmental', 'impact', 'mitigating', 'climate', 'change'] 0.2565498\n",
      "['climate', 'change', 'mitigation', 'includes', 'wide', 'range', 'strategies', 'reforestation', 'carbon', 'capture', 'storage', 'promotion', 'renewable', 'energy', 'efforts', 'crucial', 'reduce', 'carbon', 'emissions', 'limit', 'global', 'warming', 'growing', 'threat', 'biodiversity', 'ecosystems', 'worldwide'] 0.2166841\n",
      "['environmental', 'protection', 'closely', 'linked', 'sustainable', 'practices', 'agriculture', 'industry', 'urban', 'development', 'embracing', 'sustainable', 'agricultural', 'methods', 'green', 'technologies', 'preserve', 'natural', 'resources', 'reduce', 'pollution', 'mitigate', 'effects', 'climate', 'change', 'ecosystems', 'biodiversity'] 0.044458184\n",
      "['climate', 'change', 'urgent', 'global', 'challenge', 'affects', 'ecosystems', 'worldwide', 'disrupting', 'weather', 'patterns', 'melting', 'polar', 'ice', 'caps', 'threatening', 'survival', 'countless', 'species', 'immediate', 'action', 'mitigate', 'climate', 'change', 'reduce', 'greenhouse', 'gas', 'emissions', 'essential', 'preserve', 'biodiversity', 'protect', 'planet'] 0.019272672\n",
      "['rise', 'global', 'temperatures', 'having', 'significant', 'impact', 'biodiversity', 'ecosystems', 'rising', 'temperatures', 'disrupt', 'habitats', 'contribute', 'extinction', 'vulnerable', 'species', 'degrade', 'essential', 'ecological', 'services', 'pollination', 'water', 'purification', 'immediate', 'climate', 'action', 'needed', 'reverse', 'impacts', 'safeguard', 'future'] 0.0\n"
     ]
    }
   ],
   "source": [
    "# Calcul de la similarité avec tfidf\n",
    "index_tfidf = MatrixSimilarity(corpus_tfidf) \n",
    "sims_tfidf = index_tfidf[tfidf_model[query_bow]]\n",
    "\n",
    "print(\"Similarités tfidf (pair à pair) :\")\n",
    "sims_tfidf = sorted(enumerate(sims_tfidf), key = lambda item:-item[1])\n",
    "\n",
    "for doc_id, similarity in sims_tfidf :\n",
    "    print(cleaned_documents[doc_id], similarity)"
   ]
  },
  {
   "cell_type": "code",
   "execution_count": 95,
   "metadata": {},
   "outputs": [
    {
     "name": "stdout",
     "output_type": "stream",
     "text": [
      "Similarités Lda (pair à pair) :\n",
      "['climate', 'change', 'urgent', 'global', 'challenge', 'affects', 'ecosystems', 'worldwide', 'disrupting', 'weather', 'patterns', 'melting', 'polar', 'ice', 'caps', 'threatening', 'survival', 'countless', 'species', 'immediate', 'action', 'mitigate', 'climate', 'change', 'reduce', 'greenhouse', 'gas', 'emissions', 'essential', 'preserve', 'biodiversity', 'protect', 'planet'] 0.9978501\n",
      "['environmental', 'protection', 'closely', 'linked', 'sustainable', 'practices', 'agriculture', 'industry', 'urban', 'development', 'embracing', 'sustainable', 'agricultural', 'methods', 'green', 'technologies', 'preserve', 'natural', 'resources', 'reduce', 'pollution', 'mitigate', 'effects', 'climate', 'change', 'ecosystems', 'biodiversity'] 0.99783844\n",
      "['green', 'technologies', 'solar', 'power', 'wind', 'energy', 'electric', 'vehicles', 'essential', 'reducing', 'carbon', 'footprints', 'curbing', 'greenhouse', 'gas', 'emissions', 'paving', 'way', 'sustainable', 'environmentally', 'friendly', 'future', 'development', 'technologies', 'plays', 'crucial', 'role', 'combating', 'climate', 'change'] 0.997642\n",
      "['climate', 'change', 'mitigation', 'includes', 'wide', 'range', 'strategies', 'reforestation', 'carbon', 'capture', 'storage', 'promotion', 'renewable', 'energy', 'efforts', 'crucial', 'reduce', 'carbon', 'emissions', 'limit', 'global', 'warming', 'growing', 'threat', 'biodiversity', 'ecosystems', 'worldwide'] 0.12646282\n",
      "['renewable', 'energy', 'sustainability', 'key', 'addressing', 'growing', 'environmental', 'concerns', 'face', 'today', 'offering', 'viable', 'alternatives', 'fossil', 'fuels', 'transition', 'renewable', 'energy', 'sources', 'like', 'solar', 'wind', 'hydropower', 'essential', 'reducing', 'environmental', 'impact', 'mitigating', 'climate', 'change'] 0.1115756\n",
      "['rise', 'global', 'temperatures', 'having', 'significant', 'impact', 'biodiversity', 'ecosystems', 'rising', 'temperatures', 'disrupt', 'habitats', 'contribute', 'extinction', 'vulnerable', 'species', 'degrade', 'essential', 'ecological', 'services', 'pollination', 'water', 'purification', 'immediate', 'climate', 'action', 'needed', 'reverse', 'impacts', 'safeguard', 'future'] 0.10937789\n"
     ]
    }
   ],
   "source": [
    "# Calculer les similarités pair à pair avec LDA\n",
    "#corpus_lda = [lda_model[doc] for doc in corpus_bow]\n",
    "index_lda = MatrixSimilarity(model[corpus_bow])\n",
    "similarities_lda = index_lda[model[query_bow]]\n",
    "print(\"Similarités Lda (pair à pair) :\")\n",
    "sims_lda = sorted(enumerate(similarities_lda), key = lambda item:-item[1])\n",
    "\n",
    "for doc_id, similarity in sims_lda :\n",
    "    print(cleaned_documents[doc_id], similarity)"
   ]
  },
  {
   "cell_type": "markdown",
   "metadata": {},
   "source": [
    "# Avantages et limites \n",
    "## Bag of Words (BoW)\n",
    "### Avantages :\n",
    "\n",
    "- Facile à comprendre et implémenter.\n",
    "\n",
    "- Représente les documents par la fréquence des termes.\n",
    "\n",
    "- Calcul rapide pour des corpus de petite ou moyenne taille.\n",
    "\n",
    "- Utile pour capturer des similarités dans des documents partageant des mots exacts.\n",
    "### Limites :\n",
    "Les relations entre mots synonymes ou contextuellement similaires ne sont pas prises en compte.\n",
    "Exemple : \"chat\" et \"feline\" seront considérés comme différents.\n",
    "\n",
    "\n",
    "## TF-IDF (Term Frequency-Inverse Document Frequency)\n",
    "### Avantages :\n",
    "\n",
    "- Réduit l'importance des mots courants tout en valorisant ceux qui sont spécifiques au document.\n",
    "\n",
    "- Représentation équilibrée :\n",
    "Combine fréquence des mots et pertinence contextuelle.\n",
    "\n",
    "- Efficace pour documents courts :\n",
    "Performant pour comparer des documents contenant des termes significatifs.\n",
    "\n",
    "### Limites :\n",
    "\n",
    "- Ignore la relation sémantique :\n",
    "Les mots ayant un sens proche ou les synonymes sont considérés comme différents.\n",
    "\n",
    "- Dépendance à la qualité du corpus :\n",
    "Si le corpus est déséquilibré ou bruité, les scores TF-IDF peuvent être biaisés.\n",
    "\n",
    "- Statique :\n",
    "Ne capture pas les relations entre termes ou leur contexte au-delà de la fréquence.\n",
    "\n",
    "\n",
    "## Latent Dirichlet Allocation (LDA)\n",
    "### Avantages :\n",
    "\n",
    "- Capture les relations sémantiques :\n",
    "Regroupe les mots en topics basés sur leurs cooccurrences dans le corpus.\n",
    "Exemple : \"chat\", \"feline\", \"animal\" pourraient appartenir au même topic.\n",
    "\n",
    "- Robustesse contextuelle :\n",
    "Permet de comparer des documents même s'ils n'ont pas de termes en commun mais partagent des thématiques.\n",
    "\n",
    "- Réduction dimensionnelle :\n",
    "Simplifie la représentation des documents en réduisant leur complexité.\n",
    "### Limites :\n",
    "\n",
    "\n",
    "- Nécessite des ressources importantes pour des corpus volumineux.\n",
    "\n",
    "- Perte de précision locale :\n",
    "Les détails spécifiques d'un document peuvent être dilués dans des topics généraux.\n",
    "\n",
    "- Paramètres sensibles :\n",
    "Les résultats dépendent fortement du choix du nombre de topics et des hyperparamètres.\n"
   ]
  },
  {
   "cell_type": "markdown",
   "metadata": {},
   "source": [
    "### Conclusion:\n",
    "Ces approches sont complémentaires selon les besoins d'analyse:\n",
    "\n",
    "- LDA capture les relations sémantiques implicites via une approche probabiliste basée sur les topics.\n",
    "- BoW et TF-IDF restent utiles pour des comparaisons lexicales précises.\n"
   ]
  }
 ],
 "metadata": {
  "kernelspec": {
   "display_name": "Python 3",
   "language": "python",
   "name": "python3"
  },
  "language_info": {
   "codemirror_mode": {
    "name": "ipython",
    "version": 3
   },
   "file_extension": ".py",
   "mimetype": "text/x-python",
   "name": "python",
   "nbconvert_exporter": "python",
   "pygments_lexer": "ipython3",
   "version": "3.11.1"
  }
 },
 "nbformat": 4,
 "nbformat_minor": 2
}

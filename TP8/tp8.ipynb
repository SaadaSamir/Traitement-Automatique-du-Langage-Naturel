{
 "cells": [
  {
   "cell_type": "markdown",
   "metadata": {},
   "source": [
    "# Prétraiter le Dataset"
   ]
  },
  {
   "cell_type": "code",
   "execution_count": 1,
   "metadata": {},
   "outputs": [],
   "source": [
    "from sklearn.datasets import fetch_20newsgroups\n",
    "from gensim.utils import simple_preprocess\n",
    "from sklearn.model_selection import train_test_split\n",
    "\n",
    "newsgroups = fetch_20newsgroups(subset='all', remove=('headers', 'footers', 'quotes'))\n",
    "\n",
    "corpus = [simple_preprocess(doc) for doc in newsgroups.data]\n",
    "train_corpus, test_corpus = train_test_split(corpus, test_size=0.2, random_state=42)\n"
   ]
  },
  {
   "cell_type": "markdown",
   "metadata": {},
   "source": [
    "# Entraîner un Modèle Word2Vec"
   ]
  },
  {
   "cell_type": "code",
   "execution_count": 2,
   "metadata": {},
   "outputs": [
    {
     "name": "stdout",
     "output_type": "stream",
     "text": [
      "Mots similaires à 'computer':\n",
      "[('network', 0.8505211472511292), ('library', 0.7674833536148071), ('lab', 0.763748049736023), ('graphics', 0.7573402523994446), ('programming', 0.7557602524757385), ('computers', 0.7529143691062927), ('workstation', 0.7475122213363647), ('unix', 0.7448428273200989), ('macintosh', 0.74413001537323), ('platforms', 0.729738175868988)]\n"
     ]
    }
   ],
   "source": [
    "from gensim.models import Word2Vec\n",
    "\n",
    "# Entraîner le modèle Word2Vec\n",
    "word2vec_model = Word2Vec(sentences=train_corpus, vector_size=100, window=5, min_count=5, sg=0)\n",
    "word2vec_model.save(\"word2vec_newsgroups.model\")\n",
    "\n",
    "# Vérifier les mots similaires à \"computer\"\n",
    "print(\"Mots similaires à 'computer':\")\n",
    "print(word2vec_model.wv.most_similar('computer'))\n"
   ]
  },
  {
   "cell_type": "markdown",
   "metadata": {},
   "source": [
    "### Identifier \"l'intrus\" dans une liste de mots"
   ]
  },
  {
   "cell_type": "code",
   "execution_count": 3,
   "metadata": {},
   "outputs": [
    {
     "name": "stdout",
     "output_type": "stream",
     "text": [
      "L'intrus est: computer\n"
     ]
    }
   ],
   "source": [
    "# Identifier \"l'intrus\" parmi une liste de mots\n",
    "odd_word_out = word2vec_model.wv.doesnt_match(['computer', 'science', 'banana', 'technology'])\n",
    "print(f\"L'intrus est: {odd_word_out}\")\n"
   ]
  },
  {
   "cell_type": "markdown",
   "metadata": {},
   "source": [
    "# Entraîner un Modèle Doc2Vec"
   ]
  },
  {
   "cell_type": "code",
   "execution_count": 4,
   "metadata": {},
   "outputs": [
    {
     "name": "stdout",
     "output_type": "stream",
     "text": [
      "Vecteur du premier document:\n",
      "[-0.03381013  0.06518947 -0.07866743  0.40570512  0.12915003 -0.02532914\n",
      "  0.14232537  0.2816578   0.04933567 -0.41299108 -0.07609569 -0.35758916\n",
      " -0.18716918 -0.14868917  0.3971536  -0.52370447  0.7227399  -0.05133297\n",
      " -0.43979466 -0.31094447  0.0837625  -0.04182419  0.11766963 -0.09440877\n",
      "  0.42356148 -0.31670442 -0.32585397  0.0785943   0.03274687 -0.20775098\n",
      "  0.65649104 -0.04857055  0.29470438  0.41676557 -0.20307025  0.15241744\n",
      "  0.3259403   0.13766386 -0.08078739  0.14999638 -0.19148058 -0.24885008\n",
      " -0.3329382  -0.30274275  0.42241356 -0.0147788  -0.0166283  -0.04846225\n",
      "  0.21012154  0.34886006 -0.15973617 -0.63038415  0.14452069  0.3258041\n",
      " -0.02348827  0.42826337  0.08892427 -0.21452388 -0.13584417  0.4110857\n",
      "  0.4406162   0.2535704   0.11962042 -0.00572437  0.22243166  0.61969256\n",
      " -0.26874062  0.25446585 -0.6668966   0.2020142  -0.33793777  0.4477879\n",
      "  0.358772   -0.14186893 -0.09772515 -0.27306372  0.00302686 -0.34039578\n",
      " -0.00272226 -0.4590067  -0.09919956  0.58767414  0.4469321   0.33444664\n",
      " -0.3176352   0.41725814  0.1727586  -0.777272    0.05438448 -0.1778533\n",
      "  0.60578865 -0.31043696  0.194551    0.07826382  1.1666077   0.6896017\n",
      " -0.14086786 -0.3208539   0.41367033  0.3154982 ]\n"
     ]
    }
   ],
   "source": [
    "from gensim.models.doc2vec import Doc2Vec, TaggedDocument\n",
    "\n",
    "# Taguer les documents\n",
    "tagged_docs = [TaggedDocument(words=doc, tags=[str(i)]) for i, doc in enumerate(train_corpus)]\n",
    "\n",
    "# Entraîner le modèle Doc2Vec\n",
    "doc2vec_model = Doc2Vec(tagged_docs, vector_size=100, window=5, min_count=5, epochs=20)\n",
    "doc2vec_model.save(\"doc2vec_newsgroups.model\")\n",
    "\n",
    "# Accéder au vecteur d'un document\n",
    "print(\"Vecteur du premier document:\")\n",
    "print(doc2vec_model.dv[0])\n"
   ]
  },
  {
   "cell_type": "markdown",
   "metadata": {},
   "source": [
    "### Effectuer le Clustering avec les Représentations de Documents\n"
   ]
  },
  {
   "cell_type": "code",
   "execution_count": 5,
   "metadata": {},
   "outputs": [
    {
     "name": "stdout",
     "output_type": "stream",
     "text": [
      "Documents par cluster:\n",
      "Cluster 0: [9, 11, 13, 17, 19] (exemples)\n",
      "Cluster 1: [4, 15, 61, 78, 124] (exemples)\n",
      "Cluster 2: [190, 191, 266, 286, 294] (exemples)\n",
      "Cluster 3: [0, 1, 2, 3, 6] (exemples)\n",
      "Cluster 4: [5, 18, 20, 37, 40] (exemples)\n"
     ]
    }
   ],
   "source": [
    "from sklearn.cluster import KMeans\n",
    "import numpy as np\n",
    "\n",
    "# Obtenir les embeddings des documents d'entraînement\n",
    "doc_vectors = np.array([doc2vec_model.dv[str(i)] for i in range(len(tagged_docs))])\n",
    "\n",
    "# Appliquer KMeans\n",
    "num_clusters = 5\n",
    "kmeans = KMeans(n_clusters=num_clusters, random_state=42)\n",
    "kmeans.fit(doc_vectors)\n",
    "\n",
    "# Afficher les documents dans chaque cluster\n",
    "clusters = {i: [] for i in range(num_clusters)}\n",
    "for idx, label in enumerate(kmeans.labels_):\n",
    "    clusters[label].append(idx)\n",
    "\n",
    "print(\"Documents par cluster:\")\n",
    "for cluster, docs in clusters.items():\n",
    "    print(f\"Cluster {cluster}: {docs[:5]} (exemples)\")\n"
   ]
  },
  {
   "cell_type": "markdown",
   "metadata": {},
   "source": [
    "### Comparer les Performances de Word2Vec et Doc2Vec"
   ]
  },
  {
   "cell_type": "code",
   "execution_count": 7,
   "metadata": {},
   "outputs": [
    {
     "name": "stdout",
     "output_type": "stream",
     "text": [
      "Similarité entre deux documents avec Doc2Vec: 0.4206705391407013\n",
      "Similarité entre 'computer' et 'technology' avec Word2Vec: 0.6803897619247437\n"
     ]
    }
   ],
   "source": [
    "from sklearn.metrics.pairwise import cosine_similarity\n",
    "\n",
    "# Exemple: Comparer deux documents avec Doc2Vec\n",
    "doc1_vec = doc2vec_model.dv[0]\n",
    "doc2_vec = doc2vec_model.dv[1]\n",
    "similarity_doc2vec = cosine_similarity([doc1_vec], [doc2_vec])\n",
    "print(f\"Similarité entre deux documents avec Doc2Vec: {similarity_doc2vec[0][0]}\")\n",
    "\n",
    "# Exemple: Comparer deux mots avec Word2Vec\n",
    "similarity_word2vec = word2vec_model.wv.similarity('computer', 'technology')\n",
    "print(f\"Similarité entre 'computer' et 'technology' avec Word2Vec: {similarity_word2vec}\")\n"
   ]
  }
 ],
 "metadata": {
  "kernelspec": {
   "display_name": "Python 3",
   "language": "python",
   "name": "python3"
  },
  "language_info": {
   "codemirror_mode": {
    "name": "ipython",
    "version": 3
   },
   "file_extension": ".py",
   "mimetype": "text/x-python",
   "name": "python",
   "nbconvert_exporter": "python",
   "pygments_lexer": "ipython3",
   "version": "3.11.1"
  }
 },
 "nbformat": 4,
 "nbformat_minor": 2
}

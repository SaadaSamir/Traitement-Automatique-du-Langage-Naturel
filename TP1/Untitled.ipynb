{
 "cells": [
  {
   "cell_type": "code",
   "execution_count": null,
   "id": "af39a7c6",
   "metadata": {},
   "outputs": [],
   "source": [
    "import spacy\n",
    "from collections import Counter\n",
    "import string\n",
    "\n",
    "# Load the spaCy model\n",
    "nlp = spacy.load(\"en_core_web_sm\")\n",
    "\n",
    "# Function for text preprocessing\n",
    "def preprocess_text(text, frequent_word_threshold=5, rare_word_threshold=1):\n",
    "    # Step 1: Lower casing\n",
    "    text = text.lower()\n",
    "    \n",
    "    # Process the text using spaCy\n",
    "    doc = nlp(text)\n",
    "    \n",
    "    # Step 2: Tokenization, Lemmatization, and Removal of Punctuations and Stopwords\n",
    "    lemmatized_tokens = [token.lemma_ for token in doc \n",
    "                         if token.text not in string.punctuation and\n",
    "                         not token.is_stop and token.lemma_ != \"-PRON-\"]\n",
    "    \n",
    "    # Step 3: Calculate word frequency (after lemmatization)\n",
    "    word_freq = Counter(lemmatized_tokens)\n",
    "    \n",
    "    # Step 4: Remove frequent and rare words based on thresholds\n",
    "    processed_tokens = [token for token in lemmatized_tokens \n",
    "                        if word_freq[token] < frequent_word_threshold and\n",
    "                        word_freq[token] > rare_word_threshold]\n",
    "    \n",
    "    # Join the processed tokens back into a single string\n",
    "    processed_text = \" \".join(processed_tokens)\n",
    "    \n",
    "    return processed_text\n",
    "\n",
    "# Example text to preprocess\n",
    "text = \"\"\"\n",
    "Spacy is an excellent library for natural language processing. \n",
    "It has various tools like tokenization, lemmatization, and POS tagging, \n",
    "making it very useful for text preprocessing tasks.\n",
    "\"\"\"\n",
    "\n",
    "# Preprocess the text\n",
    "preprocessed_text = preprocess_text(text)\n",
    "print(preprocessed_text)\n"
   ]
  }
 ],
 "metadata": {
  "kernelspec": {
   "display_name": "Python 3 (ipykernel)",
   "language": "python",
   "name": "python3"
  },
  "language_info": {
   "codemirror_mode": {
    "name": "ipython",
    "version": 3
   },
   "file_extension": ".py",
   "mimetype": "text/x-python",
   "name": "python",
   "nbconvert_exporter": "python",
   "pygments_lexer": "ipython3",
   "version": "3.11.1"
  }
 },
 "nbformat": 4,
 "nbformat_minor": 5
}

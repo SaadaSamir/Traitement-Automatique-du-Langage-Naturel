{
 "cells": [
  {
   "cell_type": "markdown",
   "metadata": {},
   "source": [
    "# Pos tagger to recognize a new tag “NNS” associated to plural nouns"
   ]
  },
  {
   "cell_type": "code",
   "execution_count": 21,
   "metadata": {},
   "outputs": [],
   "source": [
    "from spacy.training.example import Example\n",
    "import random \n",
    "import spacy"
   ]
  },
  {
   "cell_type": "code",
   "execution_count": 22,
   "metadata": {},
   "outputs": [],
   "source": [
    "TRAIN_DATA = [\n",
    "    (\"Cars are great. They're fast.\", {\"tags\": [\"NSS\", \"VERB\", \"ADJ\", \"PUNCT\", \"PRON\", \"VERB\", \"ADV\", \"PUNCT\"]}),\n",
    "    (\"Cats and dogs are pets.\", {\"tags\": [\"NSS\", \"CCONJ\", \"NSS\", \"VERB\", \"NOUN\", \"PUNCT\"]}),\n",
    "    (\"The doors of the house are red.\", {\"tags\": [\"DET\", \"NSS\", \"ADP\", \"DET\", \"NOUN\", \"VERB\", \"ADJ\", \"PUNCT\"]}),\n",
    "    (\"I have pillows on my bed.\", {\"tags\": [\"PRON\", \"VERB\", \"NSS\", \"ADP\", \"PRON\", \"NOUN\", \"PUNCT\"]}),\n",
    "    (\"The kids play with toys.\", {\"tags\": [\"DET\", \"NSS\", \"VERB\", \"ADP\", \"NOUN\", \"PUNCT\"]}),\n",
    "    (\"These books belong to the library.\", {\"tags\": [\"DET\", \"NSS\", \"VERB\", \"ADP\", \"DET\", \"NOUN\", \"PUNCT\"]}),\n",
    "    (\"The girls and boys are playing.\", {\"tags\": [\"DET\", \"NSS\", \"CCONJ\", \"NSS\", \"VERB\", \"VERB\", \"PUNCT\"]}),\n",
    "    (\"They brought pizzas for us.\", {\"tags\": [\"PRON\", \"VERB\", \"NSS\", \"ADP\", \"PRON\", \"PUNCT\"]}),\n",
    "    (\"The windows in the house are large.\", {\"tags\": [\"DET\", \"NSS\", \"ADP\", \"DET\", \"NOUN\", \"VERB\", \"ADJ\", \"PUNCT\"]}),\n",
    "    (\"The trees and flowers look beautiful.\", {\"tags\": [\"DET\", \"NSS\", \"CCONJ\", \"NSS\", \"VERB\", \"ADJ\", \"PUNCT\"]}),\n",
    "    (\"These chairs are comfortable.\", {\"tags\": [\"DET\", \"NSS\", \"VERB\", \"ADJ\", \"PUNCT\"]}),\n",
    "    (\"She bought dresses for the party.\", {\"tags\": [\"PRON\", \"VERB\", \"NSS\", \"ADP\", \"DET\", \"NOUN\", \"PUNCT\"]}),\n",
    "    (\"The workers are on strike.\", {\"tags\": [\"DET\", \"NOUN\", \"VERB\", \"ADP\", \"NOUN\", \"PUNCT\"]}),\n",
    "    (\"The apples and oranges are juicy.\", {\"tags\": [\"DET\", \"NSS\", \"CCONJ\", \"NSS\", \"VERB\", \"ADJ\", \"PUNCT\"]}),\n",
    "    (\"We need pencils and erasers.\", {\"tags\": [\"PRON\", \"VERB\", \"NSS\", \"CCONJ\", \"NSS\", \"PUNCT\"]}),\n",
    "    (\"These cars have good mileage.\", {\"tags\": [\"DET\", \"NSS\", \"VERB\", \"ADJ\", \"NOUN\", \"PUNCT\"]}),\n",
    "    (\"The hats and scarves are in the closet.\", {\"tags\": [\"DET\", \"NSS\", \"CCONJ\", \"NSS\", \"VERB\", \"ADP\", \"DET\", \"NOUN\", \"PUNCT\"]}),\n",
    "    (\"She collects stamps and coins.\", {\"tags\": [\"PRON\", \"VERB\", \"NSS\", \"CCONJ\", \"NSS\", \"PUNCT\"]}),\n",
    "    (\"The students passed their exams.\", {\"tags\": [\"DET\", \"NOUN\", \"VERB\", \"DET\", \"NOUN\", \"PUNCT\"]}),\n",
    "    (\"The doors and windows are locked.\", {\"tags\": [\"DET\", \"NSS\", \"CCONJ\", \"NSS\", \"VERB\", \"VERB\", \"PUNCT\"]}),\n",
    "]"
   ]
  },
  {
   "cell_type": "code",
   "execution_count": 23,
   "metadata": {},
   "outputs": [],
   "source": [
    "nlp = spacy.blank(\"en\")\n",
    "pos_tagger = nlp.add_pipe(\"tagger\")\n",
    "\n",
    "tags=[\"AUX\", \"PUNCT\", \"PROPN\", \"ADJ\", \"ADP\", \"NSS\", \"VERB\", \"PART\", \"DET\", \"NOUN\", \"ADV\",\"CCONJ\", \"PRON\",\"NUM\"]\n",
    "for tag in tags:\n",
    "    pos_tagger.add_label(tag)\n",
    "other_pipes = [pipe for pipe in nlp.pipe_names if pipe != 'tagger']"
   ]
  },
  {
   "cell_type": "code",
   "execution_count": 24,
   "metadata": {},
   "outputs": [],
   "source": [
    "with nlp.disable_pipes(*other_pipes):\n",
    "    optimizer = nlp.begin_training()\n",
    "    for i in range(10):\n",
    "        random.shuffle(TRAIN_DATA)\n",
    "        for text, annotation in TRAIN_DATA:\n",
    "            doc = nlp.make_doc(text)\n",
    "            example = Example.from_dict(doc, annotation)\n",
    "            nlp.update([example], drop=0.5, losses={})"
   ]
  },
  {
   "cell_type": "code",
   "execution_count": 34,
   "metadata": {},
   "outputs": [
    {
     "name": "stdout",
     "output_type": "stream",
     "text": [
      "I PRON\n",
      "love VERB\n",
      "cats NSS\n"
     ]
    }
   ],
   "source": [
    "doc = nlp(\"I love cats\")\n",
    "for token in doc:\n",
    "    print(token.text, token.tag_)"
   ]
  },
  {
   "cell_type": "markdown",
   "metadata": {},
   "source": [
    "# A ner tagger to recognize new entity label called \"TECH\" associated to Python"
   ]
  },
  {
   "cell_type": "code",
   "execution_count": 68,
   "metadata": {},
   "outputs": [],
   "source": [
    "import random\n",
    "import spacy\n",
    "from spacy.training import Example"
   ]
  },
  {
   "cell_type": "code",
   "execution_count": null,
   "metadata": {},
   "outputs": [],
   "source": [
    "TRAIN_DATA3 = [\n",
    "    (\"Python is a great language for data science.\", {\"entities\": [(0, 6, \"TECH\")]}),  \n",
    "    (\"I use Python for machine learning projects.\", {\"entities\": [(6, 14, \"TECH\")]}),  \n",
    "    (\"The Python community is very active.\", {\"entities\": [(4, 10, \"TECH\")]}),  \n",
    "    (\"Python has libraries like Pandas and NumPy.\", {\"entities\": [(0, 6, \"TECH\")]}),  \n",
    "    (\"I am coding in Python today.\", {\"entities\": [(15, 21, \"TECH\")]}),  \n",
    "    (\"My favorite IDE for Python is PyCharm.\", {\"entities\": [(20, 26, \"TECH\")]}),  \n",
    "    (\"We are building an application in python.\", {\"entities\": [(34, 40, \"TECH\")]}),  \n",
    "    (\"Python is used for web development with frameworks like Django.\", {\"entities\": [(0, 6, \"TECH\")]}),  \n",
    "    (\"I have been using Python since 2015.\", {\"entities\": [(18, 24, \"TECH\")]}),  \n",
    "    (\"The Python syntax is easy to learn.\", {\"entities\": [(4, 10, \"TECH\")]}),  \n",
    "    (\"Python is a powerful language for automation.\", {\"entities\": [(0, 6, \"TECH\")]}),  \n",
    "    (\"There are many tutorials available for Python online.\", {\"entities\": [(39, 45, \"TECH\")]}),  \n",
    "    (\"Python supports multiple programming paradigms.\", {\"entities\": [(0, 6, \"TECH\")]}),  \n",
    "    (\"Many data scientists prefer python for their analysis.\", {\"entities\": [(28, 34, \"TECH\")]}), \n",
    "    (\"Python is one of the most popular programming languages.\", {\"entities\": [(0, 6, \"TECH\")]}),  \n",
    "    (\"I am writing a script in python to automate tasks.\", {\"entities\": [(25, 31, \"TECH\")]}),  \n",
    "    (\"Python is a versatile language that can be used for AI.\", {\"entities\": [(0, 6, \"TECH\")]}), \n",
    "    (\"I'm learning python to enhance my skills.\", {\"entities\": [(13, 19, \"TECH\")]}),  \n",
    "]\n"
   ]
  },
  {
   "cell_type": "code",
   "execution_count": 70,
   "metadata": {},
   "outputs": [],
   "source": [
    "nlp_ner = spacy.load(\"en_core_web_sm\")\n",
    "ner_tagger = nlp_ner.get_pipe(\"ner\")\n",
    "\n",
    "tags=[\"TECH\"]\n",
    "\n",
    "for tag in tags:\n",
    "    ner_tagger.add_label(tag)\n",
    "other_pipes = [pipe for pipe in nlp_ner.pipe_names if pipe != 'ner']\n",
    "with nlp_ner.disable_pipes(*other_pipes):\n",
    "    optimizer2 = nlp_ner.create_optimizer()\n",
    "    for i in range(10):\n",
    "        random.shuffle(TRAIN_DATA3)\n",
    "        for text, annotation in TRAIN_DATA3:\n",
    "            doc = nlp_ner.make_doc(text)\n",
    "            example = Example.from_dict(doc, annotation)\n",
    "            nlp_ner.update([example], sgd=optimizer2)\n"
   ]
  },
  {
   "cell_type": "code",
   "execution_count": null,
   "metadata": {},
   "outputs": [
    {
     "name": "stdout",
     "output_type": "stream",
     "text": [
      "I'm learning python\n",
      "('python', 'TECH')\n"
     ]
    }
   ],
   "source": []
  }
 ],
 "metadata": {
  "kernelspec": {
   "display_name": "Python 3",
   "language": "python",
   "name": "python3"
  },
  "language_info": {
   "codemirror_mode": {
    "name": "ipython",
    "version": 3
   },
   "file_extension": ".py",
   "mimetype": "text/x-python",
   "name": "python",
   "nbconvert_exporter": "python",
   "pygments_lexer": "ipython3",
   "version": "3.9.7"
  }
 },
 "nbformat": 4,
 "nbformat_minor": 2
}
